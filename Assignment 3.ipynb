{
 "cells": [
  {
   "cell_type": "code",
   "execution_count": 1,
   "metadata": {},
   "outputs": [
    {
     "name": "stdout",
     "output_type": "stream",
     "text": [
      "Sum on list [3, 4, 6, 9, 34, 12] is  7\n"
     ]
    }
   ],
   "source": [
    "#Assignmnt 3\n",
    "#Write a Python Program to implement your own myreduce() function which works exactly\n",
    "#like Python's built-in function reduce()\n",
    "\n",
    "def myReduce(callSum, sequence):\n",
    "    result = sequence[0]\n",
    "    for item in sequence[1:]:\n",
    "        result = callSum(result, item)\n",
    "        return result\n",
    "def findSum(x,y): \n",
    "    return x + y\n",
    "\n",
    "print (\"Sum on list [3, 4, 6, 9, 34, 12] is  \" + str(myReduce(findSum,[3, 4, 6, 9, 34, 12])) )\n"
   ]
  },
  {
   "cell_type": "code",
   "execution_count": 2,
   "metadata": {},
   "outputs": [
    {
     "name": "stdout",
     "output_type": "stream",
     "text": [
      "Filter all palindrome words['Wow', 'Tenet', '', 'madam']\n"
     ]
    }
   ],
   "source": [
    "#Assignment 3\n",
    "\n",
    "#1.2 Write a Python program to implement your own myfilter() function which works exactly\n",
    "#like Python's built-in function filter()\n",
    "\n",
    "def myfilter(callPalindrome, sequence):\n",
    "\n",
    " # Initialize result empty list\n",
    " result = []\n",
    " # iterate over sequence of items in sequence and apply filter function\n",
    " for item in sequence:\n",
    "  if callPalindrome(item.lower()):\n",
    "   result.append(item)\n",
    "\n",
    " # return final result output\n",
    " return result\n",
    "\n",
    "def isPalindrome(x):\n",
    " if (x == x[::-1]): \n",
    "  return True \n",
    " else: \n",
    "  return False\n",
    "\n",
    "print (\"Filter all palindrome words\"  + str(myfilter(isPalindrome,(\"Wow\", \"Tenet\", \"\", \"freer\", \"Top Spot\", \"madam\") )))\n"
   ]
  },
  {
   "cell_type": "code",
   "execution_count": 3,
   "metadata": {},
   "outputs": [
    {
     "name": "stdout",
     "output_type": "stream",
     "text": [
      "Pattern ['x', 'xx', 'xxx', 'xxxx', 'y', 'yy', 'yyy', 'yyyy', 'z', 'zz', 'zzz', 'zzzz']\n",
      "Pattern ['x', 'y', 'z', 'xx', 'yy', 'zz', 'xxx', 'yyy', 'zzz', 'xxxx', 'yyyy', 'zzzz']\n",
      "Pattern [(1, 1), (2, 1), (3, 1), (1, 2), (2, 2), (3, 2), (1, 3), (2, 3), (3, 3)]\n",
      "Patttern [[2], [3], [4], [3], [4], [5], [4], [5], [6], [2, 3, 4, 5], [3, 4, 5, 6], [4, 5, 6, 7], [5, 6, 7, 8]]\n"
     ]
    }
   ],
   "source": [
    "#Assignment 3\n",
    "\n",
    "#Implement List comprehensions to produce the following lists.\n",
    "#Write List comprehensions to produce the following Lists\n",
    "\n",
    "#['x', 'xx', 'xxx', 'xxxx', 'y', 'yy', 'yyy', 'yyyy', 'z', 'zz', 'zzz', 'zzzz']\n",
    "\n",
    "list = ['x','y','z']\n",
    "result = [ item*number for item in list for number in range(1,5)  ]\n",
    "print(\"Pattern \" + str(result))\n",
    "\n",
    "#['x', 'y', 'z', 'xx', 'yy', 'zz', 'xxx', 'yyy', 'zzz', 'xxxx', 'yyyy', 'zzzz']\n",
    "\n",
    "list = ['x','y','z']\n",
    "result = [ item*number for number in range(1,5) for item in list]\n",
    "print(\"Pattern \" + str(result))\n",
    "\n",
    "#[(1, 1), (2, 1), (3, 1), (1, 2), (2, 2), (3, 2), (1, 3), (2, 3), (3, 3)]\n",
    "\n",
    "list=[1,2,3]\n",
    "result=[(a,b) for b in list for a in list]\n",
    "print(\"Pattern \"+str(result))\n",
    "\n",
    "#[[2], [3], [4], [3], [4], [5], [4], [5], [6]] [[2, 3, 4, 5], [3, 4, 5, 6],[4, 5, 6, 7], [5, 6, 7, 8]]\n",
    "\n",
    "list=[2,3,4]\n",
    "list1=[2,3,4,5]\n",
    "result= [[item+number] for item in list for number in range(0,3)]\n",
    "result1= [[number+item for item in list1] for number in range(0,4)]\n",
    "\n",
    "print(\"Patttern \"+str(result+result1))"
   ]
  },
  {
   "cell_type": "code",
   "execution_count": null,
   "metadata": {},
   "outputs": [],
   "source": []
  }
 ],
 "metadata": {
  "kernelspec": {
   "display_name": "Python 3",
   "language": "python",
   "name": "python3"
  },
  "language_info": {
   "codemirror_mode": {
    "name": "ipython",
    "version": 3
   },
   "file_extension": ".py",
   "mimetype": "text/x-python",
   "name": "python",
   "nbconvert_exporter": "python",
   "pygments_lexer": "ipython3",
   "version": "3.8.3"
  }
 },
 "nbformat": 4,
 "nbformat_minor": 4
}
