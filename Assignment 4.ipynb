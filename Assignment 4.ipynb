{
 "cells": [
  {
   "cell_type": "code",
   "execution_count": 14,
   "metadata": {},
   "outputs": [
    {
     "name": "stdout",
     "output_type": "stream",
     "text": [
      "a = 3\n",
      "b = 4\n",
      "c = 5\n",
      "area : 6.0\n"
     ]
    }
   ],
   "source": [
    "#Assignment 4\n",
    "\n",
    "#Write a Python Program(with class concepts) to find the area of the triangle using the below\n",
    "#formula.\n",
    "#area = (s*(s-a)*(s-b)*(s-c)) ** 0.5\n",
    "#Function to take the length of the sides of triangle from user should be defined in the parent\n",
    "#class and function to calculate the area should be defined in subclass.\n",
    "\n",
    "class ParentClass:\n",
    "    def __init__(self, a, b, c):\n",
    "        self.a = float(a)\n",
    "        self.b = float(b)\n",
    "        self.c = float(c)\n",
    "        self.area = 0\n",
    "\n",
    "class FindArea(ParentClass):\n",
    "    def __init__(self, a, b, c):\n",
    "            ParentClass.__init__(self, a, b, c)\n",
    "\n",
    "    def calculate_area(self):\n",
    "        s = (self.a + self.b + self.c) / 2\n",
    "        self.area = float((s * (s - self.a) * (s - self.b) * (s - self.c))) ** 0.5\n",
    "\n",
    "    def returnArea(self):\n",
    "        return self.area     \n",
    "\n",
    "a, b, c = input(\"a = \"), input(\"b = \"), input(\"c = \")\n",
    "\n",
    "t = FindArea(a, b, c)\n",
    "t.calculate_area()\n",
    "print(\"area : {}\".format(t.returnArea()))"
   ]
  },
  {
   "cell_type": "code",
   "execution_count": 3,
   "metadata": {},
   "outputs": [
    {
     "name": "stdout",
     "output_type": "stream",
     "text": [
      "Enter a list elements separated by space hello world list joker\n",
      "Enter the Length against List Words to be chekced3\n",
      "['hello', 'world', 'list', 'joker']\n"
     ]
    }
   ],
   "source": [
    "#Assignment 4\n",
    "\n",
    "#Write a function filter_long_words() that takes a list of words and an integer n and returns\n",
    "#the list of words that are longer than n.\n",
    "\n",
    "def filter_long_words(listWords,number):\n",
    "    newList=[]\n",
    "    for i in listWords:\n",
    "        if len(i)>number:\n",
    "            newList.append(i)\n",
    "    return newList\n",
    "input_string=input(\"Enter a list elements separated by space \")\n",
    "userList = input_string.split()\n",
    "print(filter_long_words(userList,int(input(\"Enter the Length against List Words to be chekced\"))))"
   ]
  },
  {
   "cell_type": "code",
   "execution_count": 4,
   "metadata": {},
   "outputs": [
    {
     "name": "stdout",
     "output_type": "stream",
     "text": [
      "Enter a list elements separated by space 34  34 34 3 4 3 23 42 3 42 34 23\n",
      "[2, 2, 2, 1, 1, 1, 2, 2, 1, 2, 2, 2]\n"
     ]
    }
   ],
   "source": [
    "#Assignment 4\n",
    "\n",
    "#Write a Python program using function concept that maps list of words into a list of integers\n",
    "#representing the lengths of the corresponding words.\n",
    "def find_length_of_words(words):\n",
    "    lengths = []\n",
    "    for word in words:\n",
    "        lengths.append(len(word))\n",
    "    return lengths\n",
    "input_string=input(\"Enter a list elements separated by space \")\n",
    "userList = input_string.split()\n",
    "print(find_length_of_words(userList))"
   ]
  },
  {
   "cell_type": "code",
   "execution_count": 5,
   "metadata": {},
   "outputs": [
    {
     "name": "stdout",
     "output_type": "stream",
     "text": [
      "Enter the characterA\n"
     ]
    },
    {
     "data": {
      "text/plain": [
       "True"
      ]
     },
     "execution_count": 5,
     "metadata": {},
     "output_type": "execute_result"
    }
   ],
   "source": [
    "#Assignment 4\n",
    "\n",
    "#Write a Python function which takes a character (i.e. a string of length 1) and returns True if\n",
    "#it is a vowel, False otherwise.\n",
    "\n",
    "def checkVowel(character):\n",
    "    checkString='aeiou'\n",
    "    if character.lower() in checkString:\n",
    "        return True\n",
    "    else:\n",
    "        return False\n",
    "flag=checkVowel(input(\"Enter the character\"))\n",
    "flag"
   ]
  },
  {
   "cell_type": "code",
   "execution_count": null,
   "metadata": {},
   "outputs": [],
   "source": []
  }
 ],
 "metadata": {
  "kernelspec": {
   "display_name": "Python 3",
   "language": "python",
   "name": "python3"
  },
  "language_info": {
   "codemirror_mode": {
    "name": "ipython",
    "version": 3
   },
   "file_extension": ".py",
   "mimetype": "text/x-python",
   "name": "python",
   "nbconvert_exporter": "python",
   "pygments_lexer": "ipython3",
   "version": "3.8.3"
  }
 },
 "nbformat": 4,
 "nbformat_minor": 4
}
