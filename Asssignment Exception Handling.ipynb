{
 "cells": [
  {
   "cell_type": "code",
   "execution_count": 1,
   "metadata": {},
   "outputs": [
    {
     "name": "stdout",
     "output_type": "stream",
     "text": [
      "Divison by Zero!\n",
      "In finally block\n"
     ]
    }
   ],
   "source": [
    "#Exception Handling\n",
    "\n",
    "#Q1\n",
    "\n",
    "def throwError():\n",
    "    return 5/0\n",
    "\n",
    "try:\n",
    "    throwError()\n",
    "except ZeroDivisionError:\n",
    "    print (\"Divison by Zero!\")\n",
    "except err:\n",
    "    print('Inside Exception Block')\n",
    "finally:\n",
    "    print('In finally block')"
   ]
  },
  {
   "cell_type": "code",
   "execution_count": 2,
   "metadata": {},
   "outputs": [
    {
     "name": "stdout",
     "output_type": "stream",
     "text": [
      "Americans play Baseball\n",
      "Americans play Cricket\n",
      "Americans watch Baseball\n",
      "Americans watch Cricket\n",
      "Indians play Baseball\n",
      "Indians play Cricket\n",
      "Indians watch Baseball\n",
      "Indians watch Cricket\n"
     ]
    }
   ],
   "source": [
    "#Exception Handling\n",
    "\n",
    "#Q2\n",
    "\n",
    "Subjects=['Americans', 'Indians']\n",
    "Verbs=['play', 'watch']\n",
    "Objects=['Baseball', 'Cricket']\n",
    "All_sentences=[(sub +\" \"+ ver +\" \" + obj) for sub in Subjects for ver in Verbs for obj in Objects]\n",
    "for sentence in All_sentences:\n",
    "    print(sentence)"
   ]
  },
  {
   "cell_type": "code",
   "execution_count": null,
   "metadata": {},
   "outputs": [],
   "source": []
  }
 ],
 "metadata": {
  "kernelspec": {
   "display_name": "Python 3",
   "language": "python",
   "name": "python3"
  },
  "language_info": {
   "codemirror_mode": {
    "name": "ipython",
    "version": 3
   },
   "file_extension": ".py",
   "mimetype": "text/x-python",
   "name": "python",
   "nbconvert_exporter": "python",
   "pygments_lexer": "ipython3",
   "version": "3.8.3"
  }
 },
 "nbformat": 4,
 "nbformat_minor": 4
}
